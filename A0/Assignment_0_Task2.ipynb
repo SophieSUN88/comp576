{
 "cells": [
  {
   "cell_type": "markdown",
   "id": "90596e73",
   "metadata": {},
   "source": [
    "### Task 2"
   ]
  },
  {
   "cell_type": "code",
   "execution_count": 18,
   "id": "efad8dff",
   "metadata": {},
   "outputs": [
    {
     "name": "stdout",
     "output_type": "stream",
     "text": [
      "[2 4 6]\n",
      "[ 8 10 12]\n",
      "[1 3 5]\n",
      "[ 7  9 11]\n"
     ]
    }
   ],
   "source": [
    "import numpy as np\n",
    "import scipy.linalg\n",
    "a = np.array([2, 4, 6])\n",
    "b = np.array([8, 10, 12])\n",
    "c = np.array([1, 3, 5])\n",
    "d = np.array([7, 9, 11])\n",
    "print(a)\n",
    "print(b)\n",
    "print(c)\n",
    "print(d)"
   ]
  },
  {
   "cell_type": "code",
   "execution_count": 2,
   "id": "4ebe5986",
   "metadata": {},
   "outputs": [
    {
     "data": {
      "text/plain": [
       "1"
      ]
     },
     "execution_count": 2,
     "metadata": {},
     "output_type": "execute_result"
    }
   ],
   "source": [
    "a.ndim"
   ]
  },
  {
   "cell_type": "code",
   "execution_count": 3,
   "id": "26591ea0",
   "metadata": {},
   "outputs": [
    {
     "data": {
      "text/plain": [
       "3"
      ]
     },
     "execution_count": 3,
     "metadata": {},
     "output_type": "execute_result"
    }
   ],
   "source": [
    "a.size"
   ]
  },
  {
   "cell_type": "code",
   "execution_count": 4,
   "id": "56317c91",
   "metadata": {},
   "outputs": [
    {
     "data": {
      "text/plain": [
       "(3,)"
      ]
     },
     "execution_count": 4,
     "metadata": {},
     "output_type": "execute_result"
    }
   ],
   "source": [
    "a.shape"
   ]
  },
  {
   "cell_type": "code",
   "execution_count": 6,
   "id": "900558ea",
   "metadata": {},
   "outputs": [
    {
     "data": {
      "text/plain": [
       "3"
      ]
     },
     "execution_count": 6,
     "metadata": {},
     "output_type": "execute_result"
    }
   ],
   "source": [
    "a.shape[1-1]"
   ]
  },
  {
   "cell_type": "code",
   "execution_count": 15,
   "id": "c6d64c72",
   "metadata": {},
   "outputs": [
    {
     "data": {
      "text/plain": [
       "array([[1., 2., 3.],\n",
       "       [4., 5., 6.]])"
      ]
     },
     "execution_count": 15,
     "metadata": {},
     "output_type": "execute_result"
    }
   ],
   "source": [
    "np.array([[1. ,2. ,3.], [4. ,5. ,6.]])"
   ]
  },
  {
   "cell_type": "code",
   "execution_count": 19,
   "id": "014da67e",
   "metadata": {},
   "outputs": [],
   "source": [
    "a = np.vstack([np.hstack([c,d]), np.hstack([a,b]), np.hstack([13, 15, 17, 19, 21, 23]), \n",
    "            np.hstack([14, 16, 18, 20, 22, 24]), np.hstack([25, 27, 29, 31, 33, 35]),\n",
    "            np.hstack([26, 28, 30, 32, 34, 36])])"
   ]
  },
  {
   "cell_type": "code",
   "execution_count": 20,
   "id": "39cef6c4",
   "metadata": {},
   "outputs": [
    {
     "data": {
      "text/plain": [
       "array([[26, 28, 30, 32, 34, 36]])"
      ]
     },
     "execution_count": 20,
     "metadata": {},
     "output_type": "execute_result"
    }
   ],
   "source": [
    "a[[-1]]"
   ]
  },
  {
   "cell_type": "code",
   "execution_count": 21,
   "id": "6e789237",
   "metadata": {},
   "outputs": [
    {
     "name": "stdout",
     "output_type": "stream",
     "text": [
      "[[ 1  3  5  7  9 11]\n",
      " [ 2  4  6  8 10 12]\n",
      " [13 15 17 19 21 23]\n",
      " [14 16 18 20 22 24]\n",
      " [25 27 29 31 33 35]\n",
      " [26 28 30 32 34 36]]\n"
     ]
    },
    {
     "data": {
      "text/plain": [
       "10"
      ]
     },
     "execution_count": 21,
     "metadata": {},
     "output_type": "execute_result"
    }
   ],
   "source": [
    "print(a)\n",
    "a[1,4]"
   ]
  },
  {
   "cell_type": "code",
   "execution_count": 22,
   "id": "a4e473ed",
   "metadata": {},
   "outputs": [
    {
     "data": {
      "text/plain": [
       "array([ 2,  4,  6,  8, 10, 12])"
      ]
     },
     "execution_count": 22,
     "metadata": {},
     "output_type": "execute_result"
    }
   ],
   "source": [
    "a[1,:]"
   ]
  },
  {
   "cell_type": "code",
   "execution_count": 23,
   "id": "963a1359",
   "metadata": {},
   "outputs": [
    {
     "name": "stdout",
     "output_type": "stream",
     "text": [
      "[[ 1  3  5  7  9 11]\n",
      " [ 2  4  6  8 10 12]\n",
      " [13 15 17 19 21 23]\n",
      " [14 16 18 20 22 24]\n",
      " [25 27 29 31 33 35]\n",
      " [26 28 30 32 34 36]]\n"
     ]
    },
    {
     "data": {
      "text/plain": [
       "array([[ 1,  3,  5,  7,  9, 11],\n",
       "       [ 2,  4,  6,  8, 10, 12],\n",
       "       [13, 15, 17, 19, 21, 23],\n",
       "       [14, 16, 18, 20, 22, 24],\n",
       "       [25, 27, 29, 31, 33, 35]])"
      ]
     },
     "execution_count": 23,
     "metadata": {},
     "output_type": "execute_result"
    }
   ],
   "source": [
    "print(a)\n",
    "a[0:5,:]"
   ]
  },
  {
   "cell_type": "code",
   "execution_count": 24,
   "id": "1b66ad7e",
   "metadata": {},
   "outputs": [
    {
     "data": {
      "text/plain": [
       "array([[ 2,  4,  6,  8, 10, 12],\n",
       "       [13, 15, 17, 19, 21, 23],\n",
       "       [14, 16, 18, 20, 22, 24],\n",
       "       [25, 27, 29, 31, 33, 35],\n",
       "       [26, 28, 30, 32, 34, 36]])"
      ]
     },
     "execution_count": 24,
     "metadata": {},
     "output_type": "execute_result"
    }
   ],
   "source": [
    "a[-5:]"
   ]
  },
  {
   "cell_type": "code",
   "execution_count": 25,
   "id": "fb9f802e",
   "metadata": {},
   "outputs": [
    {
     "data": {
      "text/plain": [
       "array([[ 7,  9],\n",
       "       [ 8, 10],\n",
       "       [19, 21]])"
      ]
     },
     "execution_count": 25,
     "metadata": {},
     "output_type": "execute_result"
    }
   ],
   "source": [
    "a[0:3][:,3:5]"
   ]
  },
  {
   "cell_type": "code",
   "execution_count": 26,
   "id": "60706711",
   "metadata": {},
   "outputs": [
    {
     "data": {
      "text/plain": [
       "array([[ 2,  6],\n",
       "       [14, 18],\n",
       "       [25, 29]])"
      ]
     },
     "execution_count": 26,
     "metadata": {},
     "output_type": "execute_result"
    }
   ],
   "source": [
    "a[np.ix_([1,3,4],[0,2])]"
   ]
  },
  {
   "cell_type": "code",
   "execution_count": 27,
   "id": "ed5f0523",
   "metadata": {},
   "outputs": [
    {
     "data": {
      "text/plain": [
       "array([[13, 15, 17, 19, 21, 23],\n",
       "       [25, 27, 29, 31, 33, 35]])"
      ]
     },
     "execution_count": 27,
     "metadata": {},
     "output_type": "execute_result"
    }
   ],
   "source": [
    "a[ 2:21:2,:]"
   ]
  },
  {
   "cell_type": "code",
   "execution_count": 28,
   "id": "95808fd9",
   "metadata": {},
   "outputs": [
    {
     "data": {
      "text/plain": [
       "array([[ 1,  3,  5,  7,  9, 11],\n",
       "       [13, 15, 17, 19, 21, 23],\n",
       "       [25, 27, 29, 31, 33, 35]])"
      ]
     },
     "execution_count": 28,
     "metadata": {},
     "output_type": "execute_result"
    }
   ],
   "source": [
    "a[ ::2,:]"
   ]
  },
  {
   "cell_type": "code",
   "execution_count": 29,
   "id": "dd15e370",
   "metadata": {},
   "outputs": [
    {
     "data": {
      "text/plain": [
       "array([[26, 28, 30, 32, 34, 36],\n",
       "       [25, 27, 29, 31, 33, 35],\n",
       "       [14, 16, 18, 20, 22, 24],\n",
       "       [13, 15, 17, 19, 21, 23],\n",
       "       [ 2,  4,  6,  8, 10, 12],\n",
       "       [ 1,  3,  5,  7,  9, 11]])"
      ]
     },
     "execution_count": 29,
     "metadata": {},
     "output_type": "execute_result"
    }
   ],
   "source": [
    "a[ ::-1,:]"
   ]
  },
  {
   "cell_type": "code",
   "execution_count": 30,
   "id": "e33010c0",
   "metadata": {},
   "outputs": [
    {
     "data": {
      "text/plain": [
       "array([[ 1,  3,  5,  7,  9, 11],\n",
       "       [ 2,  4,  6,  8, 10, 12],\n",
       "       [13, 15, 17, 19, 21, 23],\n",
       "       [14, 16, 18, 20, 22, 24],\n",
       "       [25, 27, 29, 31, 33, 35],\n",
       "       [26, 28, 30, 32, 34, 36],\n",
       "       [ 1,  3,  5,  7,  9, 11]])"
      ]
     },
     "execution_count": 30,
     "metadata": {},
     "output_type": "execute_result"
    }
   ],
   "source": [
    "a[np.r_[:len(a),0]]"
   ]
  },
  {
   "cell_type": "code",
   "execution_count": 31,
   "id": "77b1187c",
   "metadata": {},
   "outputs": [
    {
     "name": "stdout",
     "output_type": "stream",
     "text": [
      "[[ 1  3  5  7  9 11]\n",
      " [ 2  4  6  8 10 12]\n",
      " [13 15 17 19 21 23]\n",
      " [14 16 18 20 22 24]\n",
      " [25 27 29 31 33 35]\n",
      " [26 28 30 32 34 36]]\n"
     ]
    },
    {
     "data": {
      "text/plain": [
       "array([[ 1,  2, 13, 14, 25, 26],\n",
       "       [ 3,  4, 15, 16, 27, 28],\n",
       "       [ 5,  6, 17, 18, 29, 30],\n",
       "       [ 7,  8, 19, 20, 31, 32],\n",
       "       [ 9, 10, 21, 22, 33, 34],\n",
       "       [11, 12, 23, 24, 35, 36]])"
      ]
     },
     "execution_count": 31,
     "metadata": {},
     "output_type": "execute_result"
    }
   ],
   "source": [
    "print(a)\n",
    "a.T"
   ]
  },
  {
   "cell_type": "code",
   "execution_count": 32,
   "id": "f225d8af",
   "metadata": {},
   "outputs": [
    {
     "data": {
      "text/plain": [
       "array([[ 1,  2, 13, 14, 25, 26],\n",
       "       [ 3,  4, 15, 16, 27, 28],\n",
       "       [ 5,  6, 17, 18, 29, 30],\n",
       "       [ 7,  8, 19, 20, 31, 32],\n",
       "       [ 9, 10, 21, 22, 33, 34],\n",
       "       [11, 12, 23, 24, 35, 36]])"
      ]
     },
     "execution_count": 32,
     "metadata": {},
     "output_type": "execute_result"
    }
   ],
   "source": [
    "a.conj().T"
   ]
  },
  {
   "cell_type": "code",
   "execution_count": 33,
   "id": "c71c09a8",
   "metadata": {},
   "outputs": [
    {
     "name": "stdout",
     "output_type": "stream",
     "text": [
      "[[0.7736453  0.19983054]\n",
      " [0.21091281 0.60955136]\n",
      " [0.36169537 0.19875326]]\n",
      "[[0.89126044 0.53758875 0.31915806 0.0218805 ]\n",
      " [0.42665768 0.64682594 0.20327781 0.25434696]]\n"
     ]
    },
    {
     "data": {
      "text/plain": [
       "array([[0.77477868, 0.54515858, 0.28753625, 0.06775404],\n",
       "       [0.44804801, 0.50765798, 0.19122279, 0.15965241],\n",
       "       [0.40716438, 0.32300213, 0.15584012, 0.05846636]])"
      ]
     },
     "execution_count": 33,
     "metadata": {},
     "output_type": "execute_result"
    }
   ],
   "source": [
    "a = np.random.rand(3,2)\n",
    "b = np.random.rand(2,4)\n",
    "print(a)\n",
    "print(b)\n",
    "a.dot(b)"
   ]
  },
  {
   "cell_type": "code",
   "execution_count": 34,
   "id": "77d53e33",
   "metadata": {},
   "outputs": [
    {
     "name": "stdout",
     "output_type": "stream",
     "text": [
      "[[0.4939727  0.94289964]\n",
      " [0.61516997 0.1295058 ]\n",
      " [0.30389977 0.86777493]]\n"
     ]
    },
    {
     "data": {
      "text/plain": [
       "array([[0.38215966, 0.18842014],\n",
       "       [0.12974723, 0.07894044],\n",
       "       [0.10991914, 0.1724731 ]])"
      ]
     },
     "execution_count": 34,
     "metadata": {},
     "output_type": "execute_result"
    }
   ],
   "source": [
    "b = np.random.rand(3,2)\n",
    "print(b)\n",
    "a*b"
   ]
  },
  {
   "cell_type": "code",
   "execution_count": 35,
   "id": "1b5d8404",
   "metadata": {},
   "outputs": [
    {
     "data": {
      "text/plain": [
       "array([[1.56617013, 0.21193193],\n",
       "       [0.3428529 , 4.70674959],\n",
       "       [1.1901798 , 0.2290378 ]])"
      ]
     },
     "execution_count": 35,
     "metadata": {},
     "output_type": "execute_result"
    }
   ],
   "source": [
    "a/b"
   ]
  },
  {
   "cell_type": "code",
   "execution_count": 36,
   "id": "e04a6250",
   "metadata": {},
   "outputs": [
    {
     "data": {
      "text/plain": [
       "array([[0.46304763, 0.00797968],\n",
       "       [0.00938229, 0.22648055],\n",
       "       [0.04731827, 0.00785132]])"
      ]
     },
     "execution_count": 36,
     "metadata": {},
     "output_type": "execute_result"
    }
   ],
   "source": [
    "a**3"
   ]
  },
  {
   "cell_type": "code",
   "execution_count": 37,
   "id": "391b9f56",
   "metadata": {},
   "outputs": [
    {
     "data": {
      "text/plain": [
       "array([[ True, False],\n",
       "       [False,  True],\n",
       "       [False, False]])"
      ]
     },
     "execution_count": 37,
     "metadata": {},
     "output_type": "execute_result"
    }
   ],
   "source": [
    "(a>0.5)"
   ]
  },
  {
   "cell_type": "code",
   "execution_count": 38,
   "id": "13a9d7df",
   "metadata": {},
   "outputs": [
    {
     "data": {
      "text/plain": [
       "(array([0, 1]), array([0, 1]))"
      ]
     },
     "execution_count": 38,
     "metadata": {},
     "output_type": "execute_result"
    }
   ],
   "source": [
    "np.nonzero(a>.5)"
   ]
  },
  {
   "cell_type": "code",
   "execution_count": 39,
   "id": "09ad612e",
   "metadata": {},
   "outputs": [
    {
     "name": "stdout",
     "output_type": "stream",
     "text": [
      "[[0.7736453  0.19983054]\n",
      " [0.21091281 0.60955136]\n",
      " [0.36169537 0.19875326]]\n",
      "[[0.5823321  0.63107908]]\n"
     ]
    },
    {
     "data": {
      "text/plain": [
       "array([[0.7736453 , 0.7736453 ],\n",
       "       [0.21091281, 0.21091281],\n",
       "       [0.36169537, 0.36169537]])"
      ]
     },
     "execution_count": 39,
     "metadata": {},
     "output_type": "execute_result"
    }
   ],
   "source": [
    "v = np.random.rand(1,2)\n",
    "print(a)\n",
    "print(v)\n",
    "a[:,np.nonzero(v>0.5)[0]]"
   ]
  },
  {
   "cell_type": "code",
   "execution_count": 40,
   "id": "6d48a100",
   "metadata": {},
   "outputs": [
    {
     "name": "stdout",
     "output_type": "stream",
     "text": [
      "[[0.46314629 0.29224545]]\n"
     ]
    }
   ],
   "source": [
    "v = np.random.rand(2,1)\n",
    "\n",
    "print(v.T)\n",
    "#a[:,v.T>0.5]"
   ]
  },
  {
   "cell_type": "code",
   "execution_count": 41,
   "id": "335fd5e9",
   "metadata": {},
   "outputs": [
    {
     "name": "stdout",
     "output_type": "stream",
     "text": [
      "[[0.7736453  0.        ]\n",
      " [0.         0.60955136]\n",
      " [0.         0.        ]]\n"
     ]
    }
   ],
   "source": [
    "a[a<0.5]=0\n",
    "print(a)"
   ]
  },
  {
   "cell_type": "code",
   "execution_count": 42,
   "id": "1abe2895",
   "metadata": {},
   "outputs": [
    {
     "name": "stdout",
     "output_type": "stream",
     "text": [
      "[[3. 3.]\n",
      " [3. 3.]\n",
      " [3. 3.]]\n"
     ]
    }
   ],
   "source": [
    "a[:] = 3\n",
    "print(a)"
   ]
  },
  {
   "cell_type": "code",
   "execution_count": 43,
   "id": "867fa059",
   "metadata": {},
   "outputs": [
    {
     "name": "stdout",
     "output_type": "stream",
     "text": [
      "[[3. 3.]\n",
      " [3. 3.]\n",
      " [3. 3.]]\n"
     ]
    }
   ],
   "source": [
    "y = a.copy()\n",
    "print(y)"
   ]
  },
  {
   "cell_type": "code",
   "execution_count": 44,
   "id": "3d8c03e4",
   "metadata": {},
   "outputs": [
    {
     "name": "stdout",
     "output_type": "stream",
     "text": [
      "[3. 3.]\n"
     ]
    }
   ],
   "source": [
    "y = a[1,:].copy()\n",
    "print(y)"
   ]
  },
  {
   "cell_type": "code",
   "execution_count": 46,
   "id": "67e34ef9",
   "metadata": {},
   "outputs": [
    {
     "name": "stdout",
     "output_type": "stream",
     "text": [
      "[3. 3. 3. 3. 3. 3.]\n"
     ]
    }
   ],
   "source": [
    "y = a.flatten()\n",
    "print(y)"
   ]
  },
  {
   "cell_type": "code",
   "execution_count": 47,
   "id": "7324e268",
   "metadata": {},
   "outputs": [
    {
     "data": {
      "text/plain": [
       "array([ 1.,  2.,  3.,  4.,  5.,  6.,  7.,  8.,  9., 10.])"
      ]
     },
     "execution_count": 47,
     "metadata": {},
     "output_type": "execute_result"
    }
   ],
   "source": [
    "np.arange(1.,11.)"
   ]
  },
  {
   "cell_type": "code",
   "execution_count": 48,
   "id": "a0f28a59",
   "metadata": {},
   "outputs": [
    {
     "data": {
      "text/plain": [
       "array([0., 1., 2., 3., 4., 5., 6., 7., 8., 9.])"
      ]
     },
     "execution_count": 48,
     "metadata": {},
     "output_type": "execute_result"
    }
   ],
   "source": [
    "np.arange(10.)"
   ]
  },
  {
   "cell_type": "code",
   "execution_count": 49,
   "id": "d39589e2",
   "metadata": {},
   "outputs": [
    {
     "data": {
      "text/plain": [
       "array([[ 1.],\n",
       "       [ 2.],\n",
       "       [ 3.],\n",
       "       [ 4.],\n",
       "       [ 5.],\n",
       "       [ 6.],\n",
       "       [ 7.],\n",
       "       [ 8.],\n",
       "       [ 9.],\n",
       "       [10.]])"
      ]
     },
     "execution_count": 49,
     "metadata": {},
     "output_type": "execute_result"
    }
   ],
   "source": [
    "np.arange(1.,11.)[:, np.newaxis]\n"
   ]
  },
  {
   "cell_type": "code",
   "execution_count": 50,
   "id": "1896efe0",
   "metadata": {},
   "outputs": [
    {
     "data": {
      "text/plain": [
       "array([[0., 0., 0., 0.],\n",
       "       [0., 0., 0., 0.],\n",
       "       [0., 0., 0., 0.]])"
      ]
     },
     "execution_count": 50,
     "metadata": {},
     "output_type": "execute_result"
    }
   ],
   "source": [
    "np.zeros((3,4))"
   ]
  },
  {
   "cell_type": "code",
   "execution_count": 51,
   "id": "5524b121",
   "metadata": {},
   "outputs": [
    {
     "data": {
      "text/plain": [
       "array([[[0., 0., 0., 0., 0.],\n",
       "        [0., 0., 0., 0., 0.],\n",
       "        [0., 0., 0., 0., 0.],\n",
       "        [0., 0., 0., 0., 0.]],\n",
       "\n",
       "       [[0., 0., 0., 0., 0.],\n",
       "        [0., 0., 0., 0., 0.],\n",
       "        [0., 0., 0., 0., 0.],\n",
       "        [0., 0., 0., 0., 0.]],\n",
       "\n",
       "       [[0., 0., 0., 0., 0.],\n",
       "        [0., 0., 0., 0., 0.],\n",
       "        [0., 0., 0., 0., 0.],\n",
       "        [0., 0., 0., 0., 0.]]])"
      ]
     },
     "execution_count": 51,
     "metadata": {},
     "output_type": "execute_result"
    }
   ],
   "source": [
    "np.zeros((3,4,5))"
   ]
  },
  {
   "cell_type": "code",
   "execution_count": 52,
   "id": "647990a5",
   "metadata": {},
   "outputs": [
    {
     "data": {
      "text/plain": [
       "array([[1., 1., 1., 1.],\n",
       "       [1., 1., 1., 1.],\n",
       "       [1., 1., 1., 1.]])"
      ]
     },
     "execution_count": 52,
     "metadata": {},
     "output_type": "execute_result"
    }
   ],
   "source": [
    "np.ones((3,4))"
   ]
  },
  {
   "cell_type": "code",
   "execution_count": 53,
   "id": "8a23bfed",
   "metadata": {},
   "outputs": [
    {
     "data": {
      "text/plain": [
       "array([[1., 0., 0.],\n",
       "       [0., 1., 0.],\n",
       "       [0., 0., 1.]])"
      ]
     },
     "execution_count": 53,
     "metadata": {},
     "output_type": "execute_result"
    }
   ],
   "source": [
    "np.eye(3)"
   ]
  },
  {
   "cell_type": "code",
   "execution_count": 54,
   "id": "30babd31",
   "metadata": {},
   "outputs": [
    {
     "data": {
      "text/plain": [
       "array([0.44613303, 0.46264602, 0.45576196, 0.64301418])"
      ]
     },
     "execution_count": 54,
     "metadata": {},
     "output_type": "execute_result"
    }
   ],
   "source": [
    "a = np.random.rand(4,4)\n",
    "np.diag(a)"
   ]
  },
  {
   "cell_type": "code",
   "execution_count": 55,
   "id": "b169bad7",
   "metadata": {},
   "outputs": [
    {
     "data": {
      "text/plain": [
       "array([[0.0865568 , 0.77784488, 0.22774679, 0.32706333],\n",
       "       [0.93336705, 0.02240891, 0.17269445, 0.48035555],\n",
       "       [0.08941369, 0.33206716, 0.46774816, 0.05227694]])"
      ]
     },
     "execution_count": 55,
     "metadata": {},
     "output_type": "execute_result"
    }
   ],
   "source": [
    "np.random.rand(3,4)"
   ]
  },
  {
   "cell_type": "code",
   "execution_count": 56,
   "id": "534e550b",
   "metadata": {},
   "outputs": [
    {
     "data": {
      "text/plain": [
       "array([1.        , 1.66666667, 2.33333333, 3.        ])"
      ]
     },
     "execution_count": 56,
     "metadata": {},
     "output_type": "execute_result"
    }
   ],
   "source": [
    "np.linspace(1,3,4)"
   ]
  },
  {
   "cell_type": "code",
   "execution_count": 57,
   "id": "483ad87f",
   "metadata": {},
   "outputs": [
    {
     "data": {
      "text/plain": [
       "array([[[0., 0., 0., 0., 0., 0.],\n",
       "        [1., 1., 1., 1., 1., 1.],\n",
       "        [2., 2., 2., 2., 2., 2.],\n",
       "        [3., 3., 3., 3., 3., 3.],\n",
       "        [4., 4., 4., 4., 4., 4.],\n",
       "        [5., 5., 5., 5., 5., 5.],\n",
       "        [6., 6., 6., 6., 6., 6.],\n",
       "        [7., 7., 7., 7., 7., 7.],\n",
       "        [8., 8., 8., 8., 8., 8.]],\n",
       "\n",
       "       [[0., 1., 2., 3., 4., 5.],\n",
       "        [0., 1., 2., 3., 4., 5.],\n",
       "        [0., 1., 2., 3., 4., 5.],\n",
       "        [0., 1., 2., 3., 4., 5.],\n",
       "        [0., 1., 2., 3., 4., 5.],\n",
       "        [0., 1., 2., 3., 4., 5.],\n",
       "        [0., 1., 2., 3., 4., 5.],\n",
       "        [0., 1., 2., 3., 4., 5.],\n",
       "        [0., 1., 2., 3., 4., 5.]]])"
      ]
     },
     "execution_count": 57,
     "metadata": {},
     "output_type": "execute_result"
    }
   ],
   "source": [
    "np.mgrid[0:9.,0:6.] "
   ]
  },
  {
   "cell_type": "code",
   "execution_count": 58,
   "id": "7c4b3bdb",
   "metadata": {},
   "outputs": [
    {
     "data": {
      "text/plain": [
       "[array([[0.],\n",
       "        [1.],\n",
       "        [2.],\n",
       "        [3.],\n",
       "        [4.],\n",
       "        [5.],\n",
       "        [6.],\n",
       "        [7.],\n",
       "        [8.]]),\n",
       " array([[0., 1., 2., 3., 4., 5.]])]"
      ]
     },
     "execution_count": 58,
     "metadata": {},
     "output_type": "execute_result"
    }
   ],
   "source": [
    "np.ogrid[0:9.,0:6.]"
   ]
  },
  {
   "cell_type": "code",
   "execution_count": 59,
   "id": "f96077f0",
   "metadata": {},
   "outputs": [
    {
     "data": {
      "text/plain": [
       "[array([[1, 2, 4],\n",
       "        [1, 2, 4],\n",
       "        [1, 2, 4]]),\n",
       " array([[2, 2, 2],\n",
       "        [4, 4, 4],\n",
       "        [5, 5, 5]])]"
      ]
     },
     "execution_count": 59,
     "metadata": {},
     "output_type": "execute_result"
    }
   ],
   "source": [
    "np.meshgrid([1,2,4],[2,4,5])"
   ]
  },
  {
   "cell_type": "code",
   "execution_count": 60,
   "id": "7e594aa8",
   "metadata": {},
   "outputs": [
    {
     "data": {
      "text/plain": [
       "(array([[1],\n",
       "        [2],\n",
       "        [4]]),\n",
       " array([[2, 4, 5]]))"
      ]
     },
     "execution_count": 60,
     "metadata": {},
     "output_type": "execute_result"
    }
   ],
   "source": [
    "np.ix_([1,2,4],[2,4,5])"
   ]
  },
  {
   "cell_type": "code",
   "execution_count": 61,
   "id": "18c5e7fc",
   "metadata": {},
   "outputs": [
    {
     "data": {
      "text/plain": [
       "array([[0.44613303, 0.03258362, 0.88631446, 0.75252111, 0.44613303,\n",
       "        0.03258362, 0.88631446, 0.75252111, 0.44613303, 0.03258362,\n",
       "        0.88631446, 0.75252111],\n",
       "       [0.43553179, 0.46264602, 0.18816976, 0.23550007, 0.43553179,\n",
       "        0.46264602, 0.18816976, 0.23550007, 0.43553179, 0.46264602,\n",
       "        0.18816976, 0.23550007],\n",
       "       [0.76370174, 0.48006877, 0.45576196, 0.82154256, 0.76370174,\n",
       "        0.48006877, 0.45576196, 0.82154256, 0.76370174, 0.48006877,\n",
       "        0.45576196, 0.82154256],\n",
       "       [0.39579902, 0.43267459, 0.90476692, 0.64301418, 0.39579902,\n",
       "        0.43267459, 0.90476692, 0.64301418, 0.39579902, 0.43267459,\n",
       "        0.90476692, 0.64301418],\n",
       "       [0.44613303, 0.03258362, 0.88631446, 0.75252111, 0.44613303,\n",
       "        0.03258362, 0.88631446, 0.75252111, 0.44613303, 0.03258362,\n",
       "        0.88631446, 0.75252111],\n",
       "       [0.43553179, 0.46264602, 0.18816976, 0.23550007, 0.43553179,\n",
       "        0.46264602, 0.18816976, 0.23550007, 0.43553179, 0.46264602,\n",
       "        0.18816976, 0.23550007],\n",
       "       [0.76370174, 0.48006877, 0.45576196, 0.82154256, 0.76370174,\n",
       "        0.48006877, 0.45576196, 0.82154256, 0.76370174, 0.48006877,\n",
       "        0.45576196, 0.82154256],\n",
       "       [0.39579902, 0.43267459, 0.90476692, 0.64301418, 0.39579902,\n",
       "        0.43267459, 0.90476692, 0.64301418, 0.39579902, 0.43267459,\n",
       "        0.90476692, 0.64301418]])"
      ]
     },
     "execution_count": 61,
     "metadata": {},
     "output_type": "execute_result"
    }
   ],
   "source": [
    "np.tile(a, (2, 3))"
   ]
  },
  {
   "cell_type": "code",
   "execution_count": 62,
   "id": "6d248b68",
   "metadata": {},
   "outputs": [
    {
     "data": {
      "text/plain": [
       "array([[0.55901741, 0.20648894, 0.23338941, 0.87587312, 0.79659048,\n",
       "        0.02608219]])"
      ]
     },
     "execution_count": 62,
     "metadata": {},
     "output_type": "execute_result"
    }
   ],
   "source": [
    "a = np.random.rand(1,3)\n",
    "b = np.random.rand(1,3)\n",
    "np.hstack((a,b))"
   ]
  },
  {
   "cell_type": "code",
   "execution_count": 63,
   "id": "8d6eb737",
   "metadata": {},
   "outputs": [
    {
     "data": {
      "text/plain": [
       "array([[0.55901741, 0.20648894, 0.23338941],\n",
       "       [0.87587312, 0.79659048, 0.02608219]])"
      ]
     },
     "execution_count": 63,
     "metadata": {},
     "output_type": "execute_result"
    }
   ],
   "source": [
    "np.concatenate((a,b))"
   ]
  },
  {
   "cell_type": "code",
   "execution_count": 64,
   "id": "9b9e7606",
   "metadata": {},
   "outputs": [
    {
     "data": {
      "text/plain": [
       "0.5590174056338614"
      ]
     },
     "execution_count": 64,
     "metadata": {},
     "output_type": "execute_result"
    }
   ],
   "source": [
    "a.max()"
   ]
  },
  {
   "cell_type": "code",
   "execution_count": 65,
   "id": "80b3afbe",
   "metadata": {},
   "outputs": [
    {
     "data": {
      "text/plain": [
       "array([0.55901741, 0.20648894, 0.23338941])"
      ]
     },
     "execution_count": 65,
     "metadata": {},
     "output_type": "execute_result"
    }
   ],
   "source": [
    "a.max(0)"
   ]
  },
  {
   "cell_type": "code",
   "execution_count": 66,
   "id": "1e68d068",
   "metadata": {},
   "outputs": [
    {
     "data": {
      "text/plain": [
       "array([0.55901741])"
      ]
     },
     "execution_count": 66,
     "metadata": {},
     "output_type": "execute_result"
    }
   ],
   "source": [
    "a.max(1)"
   ]
  },
  {
   "cell_type": "code",
   "execution_count": 67,
   "id": "5bcc21a7",
   "metadata": {},
   "outputs": [
    {
     "data": {
      "text/plain": [
       "array([[0.87587312, 0.79659048, 0.23338941]])"
      ]
     },
     "execution_count": 67,
     "metadata": {},
     "output_type": "execute_result"
    }
   ],
   "source": [
    "np.maximum(a,b)"
   ]
  },
  {
   "cell_type": "code",
   "execution_count": 69,
   "id": "266a44c3",
   "metadata": {},
   "outputs": [
    {
     "data": {
      "text/plain": [
       "array([[1.35019689, 1.03043684, 1.05115842],\n",
       "       [0.77712948, 0.65847363, 0.65662831],\n",
       "       [0.93821834, 0.91630709, 0.92421403]])"
      ]
     },
     "execution_count": 69,
     "metadata": {},
     "output_type": "execute_result"
    }
   ],
   "source": [
    "v = np.random.rand(3,3)\n",
    "np.sqrt(np.dot(v,v))"
   ]
  },
  {
   "cell_type": "code",
   "execution_count": 70,
   "id": "f2819508",
   "metadata": {},
   "outputs": [
    {
     "data": {
      "text/plain": [
       "array([[ True,  True,  True]])"
      ]
     },
     "execution_count": 70,
     "metadata": {},
     "output_type": "execute_result"
    }
   ],
   "source": [
    "np.logical_and(a,b)"
   ]
  },
  {
   "cell_type": "code",
   "execution_count": 75,
   "id": "b0c0634b",
   "metadata": {},
   "outputs": [
    {
     "data": {
      "text/plain": [
       "array([[ True,  True,  True]])"
      ]
     },
     "execution_count": 75,
     "metadata": {},
     "output_type": "execute_result"
    }
   ],
   "source": [
    "np.logical_or(a,b)"
   ]
  },
  {
   "cell_type": "code",
   "execution_count": 77,
   "id": "fd08cb2a",
   "metadata": {},
   "outputs": [
    {
     "ename": "TypeError",
     "evalue": "ufunc 'bitwise_and' not supported for the input types, and the inputs could not be safely coerced to any supported types according to the casting rule ''safe''",
     "output_type": "error",
     "traceback": [
      "\u001b[0;31m---------------------------------------------------------------------------\u001b[0m",
      "\u001b[0;31mTypeError\u001b[0m                                 Traceback (most recent call last)",
      "\u001b[0;32m/var/folders/z6/0pj6l08s5pb16r3bm3nnh_5m0000gn/T/ipykernel_87736/3682403309.py\u001b[0m in \u001b[0;36m<module>\u001b[0;34m\u001b[0m\n\u001b[0;32m----> 1\u001b[0;31m \u001b[0ma\u001b[0m \u001b[0;34m&\u001b[0m \u001b[0mb\u001b[0m\u001b[0;34m\u001b[0m\u001b[0;34m\u001b[0m\u001b[0m\n\u001b[0m",
      "\u001b[0;31mTypeError\u001b[0m: ufunc 'bitwise_and' not supported for the input types, and the inputs could not be safely coerced to any supported types according to the casting rule ''safe''"
     ]
    }
   ],
   "source": [
    "a & b"
   ]
  },
  {
   "cell_type": "code",
   "execution_count": 78,
   "id": "e95610b4",
   "metadata": {},
   "outputs": [
    {
     "ename": "TypeError",
     "evalue": "ufunc 'bitwise_or' not supported for the input types, and the inputs could not be safely coerced to any supported types according to the casting rule ''safe''",
     "output_type": "error",
     "traceback": [
      "\u001b[0;31m---------------------------------------------------------------------------\u001b[0m",
      "\u001b[0;31mTypeError\u001b[0m                                 Traceback (most recent call last)",
      "\u001b[0;32m/var/folders/z6/0pj6l08s5pb16r3bm3nnh_5m0000gn/T/ipykernel_87736/201546576.py\u001b[0m in \u001b[0;36m<module>\u001b[0;34m\u001b[0m\n\u001b[0;32m----> 1\u001b[0;31m \u001b[0ma\u001b[0m \u001b[0;34m|\u001b[0m \u001b[0mb\u001b[0m\u001b[0;34m\u001b[0m\u001b[0;34m\u001b[0m\u001b[0m\n\u001b[0m",
      "\u001b[0;31mTypeError\u001b[0m: ufunc 'bitwise_or' not supported for the input types, and the inputs could not be safely coerced to any supported types according to the casting rule ''safe''"
     ]
    }
   ],
   "source": [
    "a | b"
   ]
  },
  {
   "cell_type": "code",
   "execution_count": 79,
   "id": "d53c49ac",
   "metadata": {},
   "outputs": [
    {
     "name": "stdout",
     "output_type": "stream",
     "text": [
      "[[0.28160506 0.59950175 0.08278955]\n",
      " [0.22717512 0.98533334 0.61002845]\n",
      " [0.95571207 0.3834419  0.70943507]]\n"
     ]
    },
    {
     "data": {
      "text/plain": [
       "array([[ 1.4854054 , -1.25688112,  0.9074223 ],\n",
       "       [ 1.34720557,  0.38533181, -0.48855479],\n",
       "       [-2.72920668,  1.48493377,  0.45120118]])"
      ]
     },
     "execution_count": 79,
     "metadata": {},
     "output_type": "execute_result"
    }
   ],
   "source": [
    "a = np.random.rand(3,3)\n",
    "print(a)\n",
    "np.linalg.inv(a)"
   ]
  },
  {
   "cell_type": "code",
   "execution_count": 80,
   "id": "089e4b6e",
   "metadata": {},
   "outputs": [
    {
     "data": {
      "text/plain": [
       "array([[ 1.4854054 , -1.25688112,  0.9074223 ],\n",
       "       [ 1.34720557,  0.38533181, -0.48855479],\n",
       "       [-2.72920668,  1.48493377,  0.45120118]])"
      ]
     },
     "execution_count": 80,
     "metadata": {},
     "output_type": "execute_result"
    }
   ],
   "source": [
    "np.linalg.pinv(a)"
   ]
  },
  {
   "cell_type": "code",
   "execution_count": 81,
   "id": "f5f68d42",
   "metadata": {},
   "outputs": [
    {
     "data": {
      "text/plain": [
       "3"
      ]
     },
     "execution_count": 81,
     "metadata": {},
     "output_type": "execute_result"
    }
   ],
   "source": [
    "np.linalg.matrix_rank(a)"
   ]
  },
  {
   "cell_type": "code",
   "execution_count": 82,
   "id": "b9dc1bb8",
   "metadata": {},
   "outputs": [
    {
     "data": {
      "text/plain": [
       "array([[ 0.61739587,  0.10213303,  0.89621589],\n",
       "       [ 0.72877163, -0.04751883,  0.69016441],\n",
       "       [-0.31250949,  1.01969932, -0.34500996]])"
      ]
     },
     "execution_count": 82,
     "metadata": {},
     "output_type": "execute_result"
    }
   ],
   "source": [
    "b = np.random.rand(3,3)\n",
    "np.linalg.solve(a,b)"
   ]
  },
  {
   "cell_type": "code",
   "execution_count": 83,
   "id": "a74dcf60",
   "metadata": {},
   "outputs": [
    {
     "name": "stdout",
     "output_type": "stream",
     "text": [
      "[[-0.52878055  0.6867368  -0.49878222]\n",
      " [-0.65759757 -0.70302068 -0.27079026]\n",
      " [-0.53661585  0.18480935  0.82334011]]\n",
      "[[-0.34861162 -0.30297413 -0.88694792]\n",
      " [-0.64993639 -0.60369084  0.46167094]\n",
      " [-0.67531669  0.73740359  0.01353973]]\n",
      "[1.68544113 0.70228204 0.26454189]\n"
     ]
    }
   ],
   "source": [
    "U, S, Vh = np.linalg.svd(a)\n",
    "V = Vh.T\n",
    "print(V)\n",
    "print(U)\n",
    "print(S)"
   ]
  },
  {
   "cell_type": "code",
   "execution_count": 84,
   "id": "e2ebe662",
   "metadata": {},
   "outputs": [
    {
     "name": "stdout",
     "output_type": "stream",
     "text": [
      "[1.6508543 +0.j        0.16275959+0.4039612j 0.16275959-0.4039612j]\n",
      "[[-0.34275949+0.j         -0.29035634+0.4249725j  -0.29035634-0.4249725j ]\n",
      " [-0.69567287+0.j         -0.33095446-0.27989702j -0.33095446+0.27989702j]\n",
      " [-0.63131227+0.j          0.7397421 +0.j          0.7397421 -0.j        ]]\n"
     ]
    }
   ],
   "source": [
    "#np.linalg.cholesky(a).T\n",
    "\n",
    "D,V = np.linalg.eig(a)\n",
    "print(D)\n",
    "print(V)"
   ]
  },
  {
   "cell_type": "code",
   "execution_count": 85,
   "id": "1bbb3877",
   "metadata": {},
   "outputs": [
    {
     "name": "stdout",
     "output_type": "stream",
     "text": [
      "[[-0.27556798 -0.41038176 -0.86928079]\n",
      " [-0.22230492 -0.85257424  0.47296689]\n",
      " [-0.9352234   0.32357993  0.14371228]]\n",
      "[[-1.02190778 -0.74285177 -0.82190675]\n",
      " [ 0.         -0.96202031 -0.32451092]\n",
      " [ 0.          0.          0.31851043]]\n"
     ]
    }
   ],
   "source": [
    "Q,R = scipy.linalg.qr(a)\n",
    "#L,U = scipy.linalg.lu(a)\n",
    "print(Q)\n",
    "print(R)"
   ]
  },
  {
   "cell_type": "code",
   "execution_count": 86,
   "id": "58b6256d",
   "metadata": {},
   "outputs": [
    {
     "data": {
      "text/plain": [
       "array([[ 0.96389636+0.j        , -0.05954059-0.4474859j ,\n",
       "        -0.05954059+0.4474859j ],\n",
       "       [ 1.82253691+0.j        , -0.57050577-0.32502357j,\n",
       "        -0.57050577+0.32502357j],\n",
       "       [ 2.04858904+0.j        ,  0.40927358+0.28231837j,\n",
       "         0.40927358-0.28231837j]])"
      ]
     },
     "execution_count": 86,
     "metadata": {},
     "output_type": "execute_result"
    }
   ],
   "source": [
    "np.fft.fft(a)"
   ]
  },
  {
   "cell_type": "code",
   "execution_count": 87,
   "id": "e5e234d5",
   "metadata": {},
   "outputs": [
    {
     "data": {
      "text/plain": [
       "array([[ 0.32129879+0.j        , -0.01984686+0.14916197j,\n",
       "        -0.01984686-0.14916197j],\n",
       "       [ 0.6075123 +0.j        , -0.19016859+0.10834119j,\n",
       "        -0.19016859-0.10834119j],\n",
       "       [ 0.68286301+0.j        ,  0.13642453-0.09410612j,\n",
       "         0.13642453+0.09410612j]])"
      ]
     },
     "execution_count": 87,
     "metadata": {},
     "output_type": "execute_result"
    }
   ],
   "source": [
    "np.fft.ifft(a)"
   ]
  },
  {
   "cell_type": "code",
   "execution_count": 88,
   "id": "608e1044",
   "metadata": {},
   "outputs": [
    {
     "name": "stdout",
     "output_type": "stream",
     "text": [
      "[70 56 11 56 22 55 39 86 98  0]\n",
      "[ 0 11 22 39 55 56 56 70 86 98]\n"
     ]
    }
   ],
   "source": [
    "a = np.random.randint(100, size=10)\n",
    "print(a)\n",
    "print(np.sort(a))"
   ]
  },
  {
   "cell_type": "code",
   "execution_count": 89,
   "id": "eeb30674",
   "metadata": {},
   "outputs": [
    {
     "data": {
      "text/plain": [
       "array([70, 56, 11, 56, 22, 55, 39, 86, 98,  0])"
      ]
     },
     "execution_count": 89,
     "metadata": {},
     "output_type": "execute_result"
    }
   ],
   "source": [
    "a.squeeze()"
   ]
  },
  {
   "cell_type": "markdown",
   "id": "81a1a1f4",
   "metadata": {},
   "source": []
  },
  {
   "cell_type": "markdown",
   "id": "f7c27d29",
   "metadata": {},
   "source": []
  },
  {
   "cell_type": "markdown",
   "id": "af9671b9",
   "metadata": {},
   "source": []
  },
  {
   "cell_type": "code",
   "execution_count": null,
   "id": "b6f1b38d",
   "metadata": {},
   "outputs": [],
   "source": []
  }
 ],
 "metadata": {
  "kernelspec": {
   "display_name": "Python 3.9.6 64-bit",
   "language": "python",
   "name": "python3"
  },
  "language_info": {
   "codemirror_mode": {
    "name": "ipython",
    "version": 3
   },
   "file_extension": ".py",
   "mimetype": "text/x-python",
   "name": "python",
   "nbconvert_exporter": "python",
   "pygments_lexer": "ipython3",
   "version": "3.9.6"
  },
  "vscode": {
   "interpreter": {
    "hash": "aee8b7b246df8f9039afb4144a1f6fd8d2ca17a180786b69acc140d282b71a49"
   }
  }
 },
 "nbformat": 4,
 "nbformat_minor": 5
}
