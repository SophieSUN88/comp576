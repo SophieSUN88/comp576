{
 "cells": [
  {
   "cell_type": "markdown",
   "id": "90596e73",
   "metadata": {},
   "source": [
    "### Task 2\n"
   ]
  },
  {
   "cell_type": "code",
   "execution_count": 1,
   "id": "efad8dff",
   "metadata": {},
   "outputs": [
    {
     "name": "stdout",
     "output_type": "stream",
     "text": [
      "[2 4 6]\n",
      "[ 8 10 12]\n",
      "[1 3 5]\n",
      "[ 7  9 11]\n"
     ]
    }
   ],
   "source": [
    "import numpy as np\n",
    "import scipy.linalg\n",
    "a = np.array([2, 4, 6])\n",
    "b = np.array([8, 10, 12])\n",
    "c = np.array([1, 3, 5])\n",
    "d = np.array([7, 9, 11])\n",
    "print(a)\n",
    "print(b)\n",
    "print(c)\n",
    "print(d)"
   ]
  },
  {
   "cell_type": "code",
   "execution_count": 2,
   "id": "4ebe5986",
   "metadata": {},
   "outputs": [
    {
     "data": {
      "text/plain": [
       "1"
      ]
     },
     "execution_count": 2,
     "metadata": {},
     "output_type": "execute_result"
    }
   ],
   "source": [
    "a.ndim"
   ]
  },
  {
   "cell_type": "code",
   "execution_count": 3,
   "id": "26591ea0",
   "metadata": {},
   "outputs": [
    {
     "data": {
      "text/plain": [
       "3"
      ]
     },
     "execution_count": 3,
     "metadata": {},
     "output_type": "execute_result"
    }
   ],
   "source": [
    "a.size"
   ]
  },
  {
   "cell_type": "code",
   "execution_count": 4,
   "id": "56317c91",
   "metadata": {},
   "outputs": [
    {
     "data": {
      "text/plain": [
       "(3,)"
      ]
     },
     "execution_count": 4,
     "metadata": {},
     "output_type": "execute_result"
    }
   ],
   "source": [
    "a.shape"
   ]
  },
  {
   "cell_type": "code",
   "execution_count": 5,
   "id": "900558ea",
   "metadata": {},
   "outputs": [
    {
     "data": {
      "text/plain": [
       "3"
      ]
     },
     "execution_count": 5,
     "metadata": {},
     "output_type": "execute_result"
    }
   ],
   "source": [
    "a.shape[1-1]"
   ]
  },
  {
   "cell_type": "code",
   "execution_count": 6,
   "id": "c6d64c72",
   "metadata": {},
   "outputs": [
    {
     "data": {
      "text/plain": [
       "array([[1., 2., 3.],\n",
       "       [4., 5., 6.]])"
      ]
     },
     "execution_count": 6,
     "metadata": {},
     "output_type": "execute_result"
    }
   ],
   "source": [
    "np.array([[1. ,2. ,3.], [4. ,5. ,6.]])"
   ]
  },
  {
   "cell_type": "code",
   "execution_count": 7,
   "id": "014da67e",
   "metadata": {},
   "outputs": [],
   "source": [
    "a = np.vstack([np.hstack([c,d]), np.hstack([a,b]), np.hstack([13, 15, 17, 19, 21, 23]), \n",
    "            np.hstack([14, 16, 18, 20, 22, 24]), np.hstack([25, 27, 29, 31, 33, 35]),\n",
    "            np.hstack([26, 28, 30, 32, 34, 36])])"
   ]
  },
  {
   "cell_type": "code",
   "execution_count": 8,
   "id": "39cef6c4",
   "metadata": {},
   "outputs": [
    {
     "data": {
      "text/plain": [
       "array([[26, 28, 30, 32, 34, 36]])"
      ]
     },
     "execution_count": 8,
     "metadata": {},
     "output_type": "execute_result"
    }
   ],
   "source": [
    "a[[-1]]"
   ]
  },
  {
   "cell_type": "code",
   "execution_count": 9,
   "id": "6e789237",
   "metadata": {},
   "outputs": [
    {
     "name": "stdout",
     "output_type": "stream",
     "text": [
      "[[ 1  3  5  7  9 11]\n",
      " [ 2  4  6  8 10 12]\n",
      " [13 15 17 19 21 23]\n",
      " [14 16 18 20 22 24]\n",
      " [25 27 29 31 33 35]\n",
      " [26 28 30 32 34 36]]\n"
     ]
    },
    {
     "data": {
      "text/plain": [
       "10"
      ]
     },
     "execution_count": 9,
     "metadata": {},
     "output_type": "execute_result"
    }
   ],
   "source": [
    "print(a)\n",
    "a[1,4]"
   ]
  },
  {
   "cell_type": "code",
   "execution_count": 10,
   "id": "a4e473ed",
   "metadata": {},
   "outputs": [
    {
     "data": {
      "text/plain": [
       "array([ 2,  4,  6,  8, 10, 12])"
      ]
     },
     "execution_count": 10,
     "metadata": {},
     "output_type": "execute_result"
    }
   ],
   "source": [
    "a[1,:]"
   ]
  },
  {
   "cell_type": "code",
   "execution_count": 11,
   "id": "963a1359",
   "metadata": {},
   "outputs": [
    {
     "name": "stdout",
     "output_type": "stream",
     "text": [
      "[[ 1  3  5  7  9 11]\n",
      " [ 2  4  6  8 10 12]\n",
      " [13 15 17 19 21 23]\n",
      " [14 16 18 20 22 24]\n",
      " [25 27 29 31 33 35]\n",
      " [26 28 30 32 34 36]]\n"
     ]
    },
    {
     "data": {
      "text/plain": [
       "array([[ 1,  3,  5,  7,  9, 11],\n",
       "       [ 2,  4,  6,  8, 10, 12],\n",
       "       [13, 15, 17, 19, 21, 23],\n",
       "       [14, 16, 18, 20, 22, 24],\n",
       "       [25, 27, 29, 31, 33, 35]])"
      ]
     },
     "execution_count": 11,
     "metadata": {},
     "output_type": "execute_result"
    }
   ],
   "source": [
    "print(a)\n",
    "a[0:5,:]"
   ]
  },
  {
   "cell_type": "code",
   "execution_count": 12,
   "id": "1b66ad7e",
   "metadata": {},
   "outputs": [
    {
     "data": {
      "text/plain": [
       "array([[ 2,  4,  6,  8, 10, 12],\n",
       "       [13, 15, 17, 19, 21, 23],\n",
       "       [14, 16, 18, 20, 22, 24],\n",
       "       [25, 27, 29, 31, 33, 35],\n",
       "       [26, 28, 30, 32, 34, 36]])"
      ]
     },
     "execution_count": 12,
     "metadata": {},
     "output_type": "execute_result"
    }
   ],
   "source": [
    "a[-5:]"
   ]
  },
  {
   "cell_type": "code",
   "execution_count": 13,
   "id": "fb9f802e",
   "metadata": {},
   "outputs": [
    {
     "data": {
      "text/plain": [
       "array([[ 7,  9],\n",
       "       [ 8, 10],\n",
       "       [19, 21]])"
      ]
     },
     "execution_count": 13,
     "metadata": {},
     "output_type": "execute_result"
    }
   ],
   "source": [
    "a[0:3][:,3:5]"
   ]
  },
  {
   "cell_type": "code",
   "execution_count": 14,
   "id": "60706711",
   "metadata": {},
   "outputs": [
    {
     "data": {
      "text/plain": [
       "array([[ 2,  6],\n",
       "       [14, 18],\n",
       "       [25, 29]])"
      ]
     },
     "execution_count": 14,
     "metadata": {},
     "output_type": "execute_result"
    }
   ],
   "source": [
    "a[np.ix_([1,3,4],[0,2])]"
   ]
  },
  {
   "cell_type": "code",
   "execution_count": 15,
   "id": "ed5f0523",
   "metadata": {},
   "outputs": [
    {
     "data": {
      "text/plain": [
       "array([[13, 15, 17, 19, 21, 23],\n",
       "       [25, 27, 29, 31, 33, 35]])"
      ]
     },
     "execution_count": 15,
     "metadata": {},
     "output_type": "execute_result"
    }
   ],
   "source": [
    "a[ 2:21:2,:]"
   ]
  },
  {
   "cell_type": "code",
   "execution_count": 16,
   "id": "95808fd9",
   "metadata": {},
   "outputs": [
    {
     "data": {
      "text/plain": [
       "array([[ 1,  3,  5,  7,  9, 11],\n",
       "       [13, 15, 17, 19, 21, 23],\n",
       "       [25, 27, 29, 31, 33, 35]])"
      ]
     },
     "execution_count": 16,
     "metadata": {},
     "output_type": "execute_result"
    }
   ],
   "source": [
    "a[ ::2,:]"
   ]
  },
  {
   "cell_type": "code",
   "execution_count": 17,
   "id": "dd15e370",
   "metadata": {},
   "outputs": [
    {
     "data": {
      "text/plain": [
       "array([[26, 28, 30, 32, 34, 36],\n",
       "       [25, 27, 29, 31, 33, 35],\n",
       "       [14, 16, 18, 20, 22, 24],\n",
       "       [13, 15, 17, 19, 21, 23],\n",
       "       [ 2,  4,  6,  8, 10, 12],\n",
       "       [ 1,  3,  5,  7,  9, 11]])"
      ]
     },
     "execution_count": 17,
     "metadata": {},
     "output_type": "execute_result"
    }
   ],
   "source": [
    "a[ ::-1,:]"
   ]
  },
  {
   "cell_type": "code",
   "execution_count": 18,
   "id": "e33010c0",
   "metadata": {},
   "outputs": [
    {
     "data": {
      "text/plain": [
       "array([[ 1,  3,  5,  7,  9, 11],\n",
       "       [ 2,  4,  6,  8, 10, 12],\n",
       "       [13, 15, 17, 19, 21, 23],\n",
       "       [14, 16, 18, 20, 22, 24],\n",
       "       [25, 27, 29, 31, 33, 35],\n",
       "       [26, 28, 30, 32, 34, 36],\n",
       "       [ 1,  3,  5,  7,  9, 11]])"
      ]
     },
     "execution_count": 18,
     "metadata": {},
     "output_type": "execute_result"
    }
   ],
   "source": [
    "a[np.r_[:len(a),0]]"
   ]
  },
  {
   "cell_type": "code",
   "execution_count": 19,
   "id": "77b1187c",
   "metadata": {},
   "outputs": [
    {
     "name": "stdout",
     "output_type": "stream",
     "text": [
      "[[ 1  3  5  7  9 11]\n",
      " [ 2  4  6  8 10 12]\n",
      " [13 15 17 19 21 23]\n",
      " [14 16 18 20 22 24]\n",
      " [25 27 29 31 33 35]\n",
      " [26 28 30 32 34 36]]\n"
     ]
    },
    {
     "data": {
      "text/plain": [
       "array([[ 1,  2, 13, 14, 25, 26],\n",
       "       [ 3,  4, 15, 16, 27, 28],\n",
       "       [ 5,  6, 17, 18, 29, 30],\n",
       "       [ 7,  8, 19, 20, 31, 32],\n",
       "       [ 9, 10, 21, 22, 33, 34],\n",
       "       [11, 12, 23, 24, 35, 36]])"
      ]
     },
     "execution_count": 19,
     "metadata": {},
     "output_type": "execute_result"
    }
   ],
   "source": [
    "print(a)\n",
    "a.T"
   ]
  },
  {
   "cell_type": "code",
   "execution_count": 20,
   "id": "f225d8af",
   "metadata": {},
   "outputs": [
    {
     "data": {
      "text/plain": [
       "array([[ 1,  2, 13, 14, 25, 26],\n",
       "       [ 3,  4, 15, 16, 27, 28],\n",
       "       [ 5,  6, 17, 18, 29, 30],\n",
       "       [ 7,  8, 19, 20, 31, 32],\n",
       "       [ 9, 10, 21, 22, 33, 34],\n",
       "       [11, 12, 23, 24, 35, 36]])"
      ]
     },
     "execution_count": 20,
     "metadata": {},
     "output_type": "execute_result"
    }
   ],
   "source": [
    "a.conj().T"
   ]
  },
  {
   "cell_type": "code",
   "execution_count": 21,
   "id": "c71c09a8",
   "metadata": {},
   "outputs": [
    {
     "name": "stdout",
     "output_type": "stream",
     "text": [
      "[[0.49276135 0.13231604]\n",
      " [0.53900955 0.35288319]\n",
      " [0.2489034  0.22776163]]\n",
      "[[0.26433004 0.99942769 0.14925356 0.69637502]\n",
      " [0.82705719 0.92311051 0.74680825 0.33670562]]\n"
     ]
    },
    {
     "data": {
      "text/plain": [
       "array([[0.23968456, 0.61462166, 0.1723611 , 0.38769825],\n",
       "       [0.43433099, 0.86445125, 0.34398517, 0.49417054],\n",
       "       [0.25416454, 0.45901011, 0.20724398, 0.25001873]])"
      ]
     },
     "execution_count": 21,
     "metadata": {},
     "output_type": "execute_result"
    }
   ],
   "source": [
    "a = np.random.rand(3,2)\n",
    "b = np.random.rand(2,4)\n",
    "print(a)\n",
    "print(b)\n",
    "a.dot(b)"
   ]
  },
  {
   "cell_type": "code",
   "execution_count": 22,
   "id": "77d53e33",
   "metadata": {},
   "outputs": [
    {
     "name": "stdout",
     "output_type": "stream",
     "text": [
      "[[0.89734124 0.44841452]\n",
      " [0.4918996  0.03417347]\n",
      " [0.58988991 0.19815717]]\n"
     ]
    },
    {
     "data": {
      "text/plain": [
       "array([[0.44217508, 0.05933243],\n",
       "       [0.26513858, 0.01205924],\n",
       "       [0.14682561, 0.0451326 ]])"
      ]
     },
     "execution_count": 22,
     "metadata": {},
     "output_type": "execute_result"
    }
   ],
   "source": [
    "b = np.random.rand(3,2)\n",
    "print(b)\n",
    "a*b"
   ]
  },
  {
   "cell_type": "code",
   "execution_count": 23,
   "id": "1b5d8404",
   "metadata": {},
   "outputs": [
    {
     "data": {
      "text/plain": [
       "array([[ 0.54913485,  0.29507528],\n",
       "       [ 1.09577147, 10.32623332],\n",
       "       [ 0.42194891,  1.14939889]])"
      ]
     },
     "execution_count": 23,
     "metadata": {},
     "output_type": "execute_result"
    }
   ],
   "source": [
    "a/b"
   ]
  },
  {
   "cell_type": "code",
   "execution_count": 24,
   "id": "e04a6250",
   "metadata": {},
   "outputs": [
    {
     "data": {
      "text/plain": [
       "array([[0.11964923, 0.00231653],\n",
       "       [0.15659914, 0.04394332],\n",
       "       [0.01542029, 0.01181522]])"
      ]
     },
     "execution_count": 24,
     "metadata": {},
     "output_type": "execute_result"
    }
   ],
   "source": [
    "a**3"
   ]
  },
  {
   "cell_type": "code",
   "execution_count": 25,
   "id": "391b9f56",
   "metadata": {},
   "outputs": [
    {
     "data": {
      "text/plain": [
       "array([[False, False],\n",
       "       [ True, False],\n",
       "       [False, False]])"
      ]
     },
     "execution_count": 25,
     "metadata": {},
     "output_type": "execute_result"
    }
   ],
   "source": [
    "(a>0.5)"
   ]
  },
  {
   "cell_type": "code",
   "execution_count": 26,
   "id": "13a9d7df",
   "metadata": {},
   "outputs": [
    {
     "data": {
      "text/plain": [
       "(array([1]), array([0]))"
      ]
     },
     "execution_count": 26,
     "metadata": {},
     "output_type": "execute_result"
    }
   ],
   "source": [
    "np.nonzero(a>.5)"
   ]
  },
  {
   "cell_type": "code",
   "execution_count": 27,
   "id": "09ad612e",
   "metadata": {},
   "outputs": [
    {
     "name": "stdout",
     "output_type": "stream",
     "text": [
      "[[0.49276135 0.13231604]\n",
      " [0.53900955 0.35288319]\n",
      " [0.2489034  0.22776163]]\n",
      "[[0.63913305 0.15746713]]\n"
     ]
    },
    {
     "data": {
      "text/plain": [
       "array([[0.49276135],\n",
       "       [0.53900955],\n",
       "       [0.2489034 ]])"
      ]
     },
     "execution_count": 27,
     "metadata": {},
     "output_type": "execute_result"
    }
   ],
   "source": [
    "v = np.random.rand(1,2)\n",
    "print(a)\n",
    "print(v)\n",
    "a[:,np.nonzero(v>0.5)[0]]"
   ]
  },
  {
   "cell_type": "code",
   "execution_count": 28,
   "id": "6d48a100",
   "metadata": {},
   "outputs": [
    {
     "name": "stdout",
     "output_type": "stream",
     "text": [
      "[[0.95300622 0.88466532]]\n"
     ]
    }
   ],
   "source": [
    "v = np.random.rand(2,1)\n",
    "\n",
    "print(v.T)\n",
    "#a[:,v.T>0.5]"
   ]
  },
  {
   "cell_type": "code",
   "execution_count": 29,
   "id": "335fd5e9",
   "metadata": {},
   "outputs": [
    {
     "name": "stdout",
     "output_type": "stream",
     "text": [
      "[[0.         0.        ]\n",
      " [0.53900955 0.        ]\n",
      " [0.         0.        ]]\n"
     ]
    }
   ],
   "source": [
    "a[a<0.5]=0\n",
    "print(a)"
   ]
  },
  {
   "cell_type": "code",
   "execution_count": 30,
   "id": "1abe2895",
   "metadata": {},
   "outputs": [
    {
     "name": "stdout",
     "output_type": "stream",
     "text": [
      "[[3. 3.]\n",
      " [3. 3.]\n",
      " [3. 3.]]\n"
     ]
    }
   ],
   "source": [
    "a[:] = 3\n",
    "print(a)"
   ]
  },
  {
   "cell_type": "code",
   "execution_count": 31,
   "id": "867fa059",
   "metadata": {},
   "outputs": [
    {
     "name": "stdout",
     "output_type": "stream",
     "text": [
      "[[3. 3.]\n",
      " [3. 3.]\n",
      " [3. 3.]]\n"
     ]
    }
   ],
   "source": [
    "y = a.copy()\n",
    "print(y)"
   ]
  },
  {
   "cell_type": "code",
   "execution_count": 32,
   "id": "3d8c03e4",
   "metadata": {},
   "outputs": [
    {
     "name": "stdout",
     "output_type": "stream",
     "text": [
      "[3. 3.]\n"
     ]
    }
   ],
   "source": [
    "y = a[1,:].copy()\n",
    "print(y)"
   ]
  },
  {
   "cell_type": "code",
   "execution_count": 33,
   "id": "67e34ef9",
   "metadata": {},
   "outputs": [
    {
     "name": "stdout",
     "output_type": "stream",
     "text": [
      "[3. 3. 3. 3. 3. 3.]\n"
     ]
    }
   ],
   "source": [
    "y = a.flatten()\n",
    "print(y)"
   ]
  },
  {
   "cell_type": "code",
   "execution_count": 34,
   "id": "7324e268",
   "metadata": {},
   "outputs": [
    {
     "data": {
      "text/plain": [
       "array([ 1.,  2.,  3.,  4.,  5.,  6.,  7.,  8.,  9., 10.])"
      ]
     },
     "execution_count": 34,
     "metadata": {},
     "output_type": "execute_result"
    }
   ],
   "source": [
    "np.arange(1.,11.)"
   ]
  },
  {
   "cell_type": "code",
   "execution_count": 35,
   "id": "a0f28a59",
   "metadata": {},
   "outputs": [
    {
     "data": {
      "text/plain": [
       "array([0., 1., 2., 3., 4., 5., 6., 7., 8., 9.])"
      ]
     },
     "execution_count": 35,
     "metadata": {},
     "output_type": "execute_result"
    }
   ],
   "source": [
    "np.arange(10.)"
   ]
  },
  {
   "cell_type": "code",
   "execution_count": 36,
   "id": "d39589e2",
   "metadata": {},
   "outputs": [
    {
     "data": {
      "text/plain": [
       "array([[ 1.],\n",
       "       [ 2.],\n",
       "       [ 3.],\n",
       "       [ 4.],\n",
       "       [ 5.],\n",
       "       [ 6.],\n",
       "       [ 7.],\n",
       "       [ 8.],\n",
       "       [ 9.],\n",
       "       [10.]])"
      ]
     },
     "execution_count": 36,
     "metadata": {},
     "output_type": "execute_result"
    }
   ],
   "source": [
    "np.arange(1.,11.)[:, np.newaxis]\n"
   ]
  },
  {
   "cell_type": "code",
   "execution_count": 37,
   "id": "1896efe0",
   "metadata": {},
   "outputs": [
    {
     "data": {
      "text/plain": [
       "array([[0., 0., 0., 0.],\n",
       "       [0., 0., 0., 0.],\n",
       "       [0., 0., 0., 0.]])"
      ]
     },
     "execution_count": 37,
     "metadata": {},
     "output_type": "execute_result"
    }
   ],
   "source": [
    "np.zeros((3,4))"
   ]
  },
  {
   "cell_type": "code",
   "execution_count": 38,
   "id": "5524b121",
   "metadata": {},
   "outputs": [
    {
     "data": {
      "text/plain": [
       "array([[[0., 0., 0., 0., 0.],\n",
       "        [0., 0., 0., 0., 0.],\n",
       "        [0., 0., 0., 0., 0.],\n",
       "        [0., 0., 0., 0., 0.]],\n",
       "\n",
       "       [[0., 0., 0., 0., 0.],\n",
       "        [0., 0., 0., 0., 0.],\n",
       "        [0., 0., 0., 0., 0.],\n",
       "        [0., 0., 0., 0., 0.]],\n",
       "\n",
       "       [[0., 0., 0., 0., 0.],\n",
       "        [0., 0., 0., 0., 0.],\n",
       "        [0., 0., 0., 0., 0.],\n",
       "        [0., 0., 0., 0., 0.]]])"
      ]
     },
     "execution_count": 38,
     "metadata": {},
     "output_type": "execute_result"
    }
   ],
   "source": [
    "np.zeros((3,4,5))"
   ]
  },
  {
   "cell_type": "code",
   "execution_count": 39,
   "id": "647990a5",
   "metadata": {},
   "outputs": [
    {
     "data": {
      "text/plain": [
       "array([[1., 1., 1., 1.],\n",
       "       [1., 1., 1., 1.],\n",
       "       [1., 1., 1., 1.]])"
      ]
     },
     "execution_count": 39,
     "metadata": {},
     "output_type": "execute_result"
    }
   ],
   "source": [
    "np.ones((3,4))"
   ]
  },
  {
   "cell_type": "code",
   "execution_count": 40,
   "id": "8a23bfed",
   "metadata": {},
   "outputs": [
    {
     "data": {
      "text/plain": [
       "array([[1., 0., 0.],\n",
       "       [0., 1., 0.],\n",
       "       [0., 0., 1.]])"
      ]
     },
     "execution_count": 40,
     "metadata": {},
     "output_type": "execute_result"
    }
   ],
   "source": [
    "np.eye(3)"
   ]
  },
  {
   "cell_type": "code",
   "execution_count": 41,
   "id": "30babd31",
   "metadata": {},
   "outputs": [
    {
     "data": {
      "text/plain": [
       "array([0.17751489, 0.5942044 , 0.81607359, 0.00957537])"
      ]
     },
     "execution_count": 41,
     "metadata": {},
     "output_type": "execute_result"
    }
   ],
   "source": [
    "a = np.random.rand(4,4)\n",
    "np.diag(a)"
   ]
  },
  {
   "cell_type": "code",
   "execution_count": 42,
   "id": "b169bad7",
   "metadata": {},
   "outputs": [
    {
     "data": {
      "text/plain": [
       "array([[0.298404  , 0.00405434, 0.97010522, 0.0582224 ],\n",
       "       [0.37367661, 0.59717098, 0.00441781, 0.87965886],\n",
       "       [0.3327037 , 0.27579464, 0.50576818, 0.79869409]])"
      ]
     },
     "execution_count": 42,
     "metadata": {},
     "output_type": "execute_result"
    }
   ],
   "source": [
    "np.random.rand(3,4)"
   ]
  },
  {
   "cell_type": "code",
   "execution_count": 43,
   "id": "534e550b",
   "metadata": {},
   "outputs": [
    {
     "data": {
      "text/plain": [
       "array([1.        , 1.66666667, 2.33333333, 3.        ])"
      ]
     },
     "execution_count": 43,
     "metadata": {},
     "output_type": "execute_result"
    }
   ],
   "source": [
    "np.linspace(1,3,4)"
   ]
  },
  {
   "cell_type": "code",
   "execution_count": 44,
   "id": "483ad87f",
   "metadata": {},
   "outputs": [
    {
     "data": {
      "text/plain": [
       "array([[[0., 0., 0., 0., 0., 0.],\n",
       "        [1., 1., 1., 1., 1., 1.],\n",
       "        [2., 2., 2., 2., 2., 2.],\n",
       "        [3., 3., 3., 3., 3., 3.],\n",
       "        [4., 4., 4., 4., 4., 4.],\n",
       "        [5., 5., 5., 5., 5., 5.],\n",
       "        [6., 6., 6., 6., 6., 6.],\n",
       "        [7., 7., 7., 7., 7., 7.],\n",
       "        [8., 8., 8., 8., 8., 8.]],\n",
       "\n",
       "       [[0., 1., 2., 3., 4., 5.],\n",
       "        [0., 1., 2., 3., 4., 5.],\n",
       "        [0., 1., 2., 3., 4., 5.],\n",
       "        [0., 1., 2., 3., 4., 5.],\n",
       "        [0., 1., 2., 3., 4., 5.],\n",
       "        [0., 1., 2., 3., 4., 5.],\n",
       "        [0., 1., 2., 3., 4., 5.],\n",
       "        [0., 1., 2., 3., 4., 5.],\n",
       "        [0., 1., 2., 3., 4., 5.]]])"
      ]
     },
     "execution_count": 44,
     "metadata": {},
     "output_type": "execute_result"
    }
   ],
   "source": [
    "np.mgrid[0:9.,0:6.] "
   ]
  },
  {
   "cell_type": "code",
   "execution_count": 45,
   "id": "7c4b3bdb",
   "metadata": {},
   "outputs": [
    {
     "data": {
      "text/plain": [
       "[array([[0.],\n",
       "        [1.],\n",
       "        [2.],\n",
       "        [3.],\n",
       "        [4.],\n",
       "        [5.],\n",
       "        [6.],\n",
       "        [7.],\n",
       "        [8.]]),\n",
       " array([[0., 1., 2., 3., 4., 5.]])]"
      ]
     },
     "execution_count": 45,
     "metadata": {},
     "output_type": "execute_result"
    }
   ],
   "source": [
    "np.ogrid[0:9.,0:6.]"
   ]
  },
  {
   "cell_type": "code",
   "execution_count": 46,
   "id": "f96077f0",
   "metadata": {},
   "outputs": [
    {
     "data": {
      "text/plain": [
       "[array([[1, 2, 4],\n",
       "        [1, 2, 4],\n",
       "        [1, 2, 4]]),\n",
       " array([[2, 2, 2],\n",
       "        [4, 4, 4],\n",
       "        [5, 5, 5]])]"
      ]
     },
     "execution_count": 46,
     "metadata": {},
     "output_type": "execute_result"
    }
   ],
   "source": [
    "np.meshgrid([1,2,4],[2,4,5])"
   ]
  },
  {
   "cell_type": "code",
   "execution_count": 47,
   "id": "7e594aa8",
   "metadata": {},
   "outputs": [
    {
     "data": {
      "text/plain": [
       "(array([[1],\n",
       "        [2],\n",
       "        [4]]),\n",
       " array([[2, 4, 5]]))"
      ]
     },
     "execution_count": 47,
     "metadata": {},
     "output_type": "execute_result"
    }
   ],
   "source": [
    "np.ix_([1,2,4],[2,4,5])"
   ]
  },
  {
   "cell_type": "code",
   "execution_count": 48,
   "id": "18c5e7fc",
   "metadata": {},
   "outputs": [
    {
     "data": {
      "text/plain": [
       "array([[0.17751489, 0.68411256, 0.20256011, 0.11153342, 0.17751489,\n",
       "        0.68411256, 0.20256011, 0.11153342, 0.17751489, 0.68411256,\n",
       "        0.20256011, 0.11153342],\n",
       "       [0.69634658, 0.5942044 , 0.33460903, 0.92366986, 0.69634658,\n",
       "        0.5942044 , 0.33460903, 0.92366986, 0.69634658, 0.5942044 ,\n",
       "        0.33460903, 0.92366986],\n",
       "       [0.1512082 , 0.04254066, 0.81607359, 0.45762247, 0.1512082 ,\n",
       "        0.04254066, 0.81607359, 0.45762247, 0.1512082 , 0.04254066,\n",
       "        0.81607359, 0.45762247],\n",
       "       [0.82946179, 0.1349125 , 0.86108135, 0.00957537, 0.82946179,\n",
       "        0.1349125 , 0.86108135, 0.00957537, 0.82946179, 0.1349125 ,\n",
       "        0.86108135, 0.00957537],\n",
       "       [0.17751489, 0.68411256, 0.20256011, 0.11153342, 0.17751489,\n",
       "        0.68411256, 0.20256011, 0.11153342, 0.17751489, 0.68411256,\n",
       "        0.20256011, 0.11153342],\n",
       "       [0.69634658, 0.5942044 , 0.33460903, 0.92366986, 0.69634658,\n",
       "        0.5942044 , 0.33460903, 0.92366986, 0.69634658, 0.5942044 ,\n",
       "        0.33460903, 0.92366986],\n",
       "       [0.1512082 , 0.04254066, 0.81607359, 0.45762247, 0.1512082 ,\n",
       "        0.04254066, 0.81607359, 0.45762247, 0.1512082 , 0.04254066,\n",
       "        0.81607359, 0.45762247],\n",
       "       [0.82946179, 0.1349125 , 0.86108135, 0.00957537, 0.82946179,\n",
       "        0.1349125 , 0.86108135, 0.00957537, 0.82946179, 0.1349125 ,\n",
       "        0.86108135, 0.00957537]])"
      ]
     },
     "execution_count": 48,
     "metadata": {},
     "output_type": "execute_result"
    }
   ],
   "source": [
    "np.tile(a, (2, 3))"
   ]
  },
  {
   "cell_type": "code",
   "execution_count": 49,
   "id": "6d248b68",
   "metadata": {},
   "outputs": [
    {
     "data": {
      "text/plain": [
       "array([[0.56278953, 0.36541972, 0.53319426, 0.92904612, 0.57273921,\n",
       "        0.69098301]])"
      ]
     },
     "execution_count": 49,
     "metadata": {},
     "output_type": "execute_result"
    }
   ],
   "source": [
    "a = np.random.rand(1,3)\n",
    "b = np.random.rand(1,3)\n",
    "np.hstack((a,b))"
   ]
  },
  {
   "cell_type": "code",
   "execution_count": 50,
   "id": "8d6eb737",
   "metadata": {},
   "outputs": [
    {
     "data": {
      "text/plain": [
       "array([[0.56278953, 0.36541972, 0.53319426],\n",
       "       [0.92904612, 0.57273921, 0.69098301]])"
      ]
     },
     "execution_count": 50,
     "metadata": {},
     "output_type": "execute_result"
    }
   ],
   "source": [
    "np.concatenate((a,b))"
   ]
  },
  {
   "cell_type": "code",
   "execution_count": 51,
   "id": "9b9e7606",
   "metadata": {},
   "outputs": [
    {
     "data": {
      "text/plain": [
       "0.5627895302249861"
      ]
     },
     "execution_count": 51,
     "metadata": {},
     "output_type": "execute_result"
    }
   ],
   "source": [
    "a.max()"
   ]
  },
  {
   "cell_type": "code",
   "execution_count": 52,
   "id": "80b3afbe",
   "metadata": {},
   "outputs": [
    {
     "data": {
      "text/plain": [
       "array([0.56278953, 0.36541972, 0.53319426])"
      ]
     },
     "execution_count": 52,
     "metadata": {},
     "output_type": "execute_result"
    }
   ],
   "source": [
    "a.max(0)"
   ]
  },
  {
   "cell_type": "code",
   "execution_count": 53,
   "id": "1e68d068",
   "metadata": {},
   "outputs": [
    {
     "data": {
      "text/plain": [
       "array([0.56278953])"
      ]
     },
     "execution_count": 53,
     "metadata": {},
     "output_type": "execute_result"
    }
   ],
   "source": [
    "a.max(1)"
   ]
  },
  {
   "cell_type": "code",
   "execution_count": 54,
   "id": "5bcc21a7",
   "metadata": {},
   "outputs": [
    {
     "data": {
      "text/plain": [
       "array([[0.92904612, 0.57273921, 0.69098301]])"
      ]
     },
     "execution_count": 54,
     "metadata": {},
     "output_type": "execute_result"
    }
   ],
   "source": [
    "np.maximum(a,b)"
   ]
  },
  {
   "cell_type": "code",
   "execution_count": 55,
   "id": "266a44c3",
   "metadata": {},
   "outputs": [
    {
     "data": {
      "text/plain": [
       "array([[0.72476937, 0.89787022, 0.83029377],\n",
       "       [0.62167338, 0.96982418, 0.81111481],\n",
       "       [0.55234345, 0.693817  , 0.7471576 ]])"
      ]
     },
     "execution_count": 55,
     "metadata": {},
     "output_type": "execute_result"
    }
   ],
   "source": [
    "v = np.random.rand(3,3)\n",
    "np.sqrt(np.dot(v,v))"
   ]
  },
  {
   "cell_type": "code",
   "execution_count": 56,
   "id": "f2819508",
   "metadata": {},
   "outputs": [
    {
     "data": {
      "text/plain": [
       "array([[ True,  True,  True]])"
      ]
     },
     "execution_count": 56,
     "metadata": {},
     "output_type": "execute_result"
    }
   ],
   "source": [
    "np.logical_and(a,b)"
   ]
  },
  {
   "cell_type": "code",
   "execution_count": 57,
   "id": "b0c0634b",
   "metadata": {},
   "outputs": [
    {
     "data": {
      "text/plain": [
       "array([[ True,  True,  True]])"
      ]
     },
     "execution_count": 57,
     "metadata": {},
     "output_type": "execute_result"
    }
   ],
   "source": [
    "np.logical_or(a,b)"
   ]
  },
  {
   "cell_type": "code",
   "execution_count": 60,
   "id": "fd08cb2a",
   "metadata": {},
   "outputs": [
    {
     "data": {
      "text/plain": [
       "0"
      ]
     },
     "execution_count": 60,
     "metadata": {},
     "output_type": "execute_result"
    }
   ],
   "source": [
    "a = 1\n",
    "b = 2\n",
    "a & b"
   ]
  },
  {
   "cell_type": "code",
   "execution_count": 61,
   "id": "e95610b4",
   "metadata": {},
   "outputs": [
    {
     "data": {
      "text/plain": [
       "3"
      ]
     },
     "execution_count": 61,
     "metadata": {},
     "output_type": "execute_result"
    }
   ],
   "source": [
    "a = 1\n",
    "b = 2\n",
    "a | b"
   ]
  },
  {
   "cell_type": "code",
   "execution_count": 62,
   "id": "d53c49ac",
   "metadata": {},
   "outputs": [
    {
     "name": "stdout",
     "output_type": "stream",
     "text": [
      "[[0.32506614 0.84754624 0.8252302 ]\n",
      " [0.41797144 0.85604905 0.37829632]\n",
      " [0.05124385 0.96716723 0.19207902]]\n"
     ]
    },
    {
     "data": {
      "text/plain": [
       "array([[-1.11728788,  3.52379694, -2.13984699],\n",
       "       [-0.33776075,  0.11176061,  1.23101285],\n",
       "       [ 1.9987881 , -1.50284049, -0.42139576]])"
      ]
     },
     "execution_count": 62,
     "metadata": {},
     "output_type": "execute_result"
    }
   ],
   "source": [
    "a = np.random.rand(3,3)\n",
    "print(a)\n",
    "np.linalg.inv(a)"
   ]
  },
  {
   "cell_type": "code",
   "execution_count": 63,
   "id": "089e4b6e",
   "metadata": {},
   "outputs": [
    {
     "data": {
      "text/plain": [
       "array([[-1.11728788,  3.52379694, -2.13984699],\n",
       "       [-0.33776075,  0.11176061,  1.23101285],\n",
       "       [ 1.9987881 , -1.50284049, -0.42139576]])"
      ]
     },
     "execution_count": 63,
     "metadata": {},
     "output_type": "execute_result"
    }
   ],
   "source": [
    "np.linalg.pinv(a)"
   ]
  },
  {
   "cell_type": "code",
   "execution_count": 64,
   "id": "f5f68d42",
   "metadata": {},
   "outputs": [
    {
     "data": {
      "text/plain": [
       "3"
      ]
     },
     "execution_count": 64,
     "metadata": {},
     "output_type": "execute_result"
    }
   ],
   "source": [
    "np.linalg.matrix_rank(a)"
   ]
  },
  {
   "cell_type": "code",
   "execution_count": 65,
   "id": "b9dc1bb8",
   "metadata": {},
   "outputs": [
    {
     "data": {
      "text/plain": [
       "array([[-1.53338754e-01,  1.97936865e+00, -3.27305509e-01],\n",
       "       [ 6.18136895e-01,  4.62795967e-01,  1.93287536e-04],\n",
       "       [-3.29559132e-01, -6.92157103e-01,  7.20996946e-01]])"
      ]
     },
     "execution_count": 65,
     "metadata": {},
     "output_type": "execute_result"
    }
   ],
   "source": [
    "b = np.random.rand(3,3)\n",
    "np.linalg.solve(a,b)"
   ]
  },
  {
   "cell_type": "code",
   "execution_count": 66,
   "id": "a74dcf60",
   "metadata": {},
   "outputs": [
    {
     "name": "stdout",
     "output_type": "stream",
     "text": [
      "[[-0.26120317  0.31156816 -0.91361818]\n",
      " [-0.84311803 -0.53450779  0.05876579]\n",
      " [-0.47002649  0.78563777  0.40230386]]\n",
      "[[-0.6564018   0.64501479  0.39127048]\n",
      " [-0.55764895 -0.06553491 -0.82748585]\n",
      " [-0.50809874 -0.76135477  0.40270906]]\n",
      "[1.8089071  0.45982234 0.21676484]\n"
     ]
    }
   ],
   "source": [
    "U, S, Vh = np.linalg.svd(a)\n",
    "V = Vh.T\n",
    "print(V)\n",
    "print(U)\n",
    "print(S)"
   ]
  },
  {
   "cell_type": "code",
   "execution_count": 67,
   "id": "e2ebe662",
   "metadata": {},
   "outputs": [
    {
     "name": "stdout",
     "output_type": "stream",
     "text": [
      "[ 1.60372055+0.j         -0.11526316+0.31486557j -0.11526316-0.31486557j]\n",
      "[[ 0.67528598+0.j          0.74180144+0.j          0.74180144-0.j        ]\n",
      " [ 0.59678907+0.j         -0.13609967-0.2572533j  -0.13609967+0.2572533j ]\n",
      " [ 0.4333955 +0.j         -0.25603298+0.54724342j -0.25603298-0.54724342j]]\n"
     ]
    }
   ],
   "source": [
    "#np.linalg.cholesky(a).T\n",
    "\n",
    "D,V = np.linalg.eig(a)\n",
    "print(D)\n",
    "print(V)"
   ]
  },
  {
   "cell_type": "code",
   "execution_count": 68,
   "id": "1bbb3877",
   "metadata": {},
   "outputs": [
    {
     "name": "stdout",
     "output_type": "stream",
     "text": [
      "[[-0.61105892  0.07347252 -0.788168  ]\n",
      " [-0.78570217 -0.17745997  0.59260448]\n",
      " [-0.09632813  0.98138155  0.16616601]]\n",
      "[[-0.53197185 -1.28366569 -0.81999513]\n",
      " [ 0.          0.85951699  0.18200209]\n",
      " [ 0.          0.         -0.39432294]]\n"
     ]
    }
   ],
   "source": [
    "Q,R = scipy.linalg.qr(a)\n",
    "#L,U = scipy.linalg.lu(a)\n",
    "print(Q)\n",
    "print(R)"
   ]
  },
  {
   "cell_type": "code",
   "execution_count": 69,
   "id": "58b6256d",
   "metadata": {},
   "outputs": [
    {
     "data": {
      "text/plain": [
       "array([[ 1.99784259+0.j        , -0.51132208-0.01932626j,\n",
       "        -0.51132208+0.01932626j],\n",
       "       [ 1.65231681+0.j        , -0.19920125-0.413746j  ,\n",
       "        -0.19920125+0.413746j  ],\n",
       "       [ 1.21049011+0.j        , -0.52837927-0.67124608j,\n",
       "        -0.52837927+0.67124608j]])"
      ]
     },
     "execution_count": 69,
     "metadata": {},
     "output_type": "execute_result"
    }
   ],
   "source": [
    "np.fft.fft(a)"
   ]
  },
  {
   "cell_type": "code",
   "execution_count": 70,
   "id": "e5e234d5",
   "metadata": {},
   "outputs": [
    {
     "data": {
      "text/plain": [
       "array([[ 0.66594753+0.j        , -0.17044069+0.00644209j,\n",
       "        -0.17044069-0.00644209j],\n",
       "       [ 0.55077227+0.j        , -0.06640042+0.13791533j,\n",
       "        -0.06640042-0.13791533j],\n",
       "       [ 0.4034967 +0.j        , -0.17612642+0.22374869j,\n",
       "        -0.17612642-0.22374869j]])"
      ]
     },
     "execution_count": 70,
     "metadata": {},
     "output_type": "execute_result"
    }
   ],
   "source": [
    "np.fft.ifft(a)"
   ]
  },
  {
   "cell_type": "code",
   "execution_count": 71,
   "id": "608e1044",
   "metadata": {},
   "outputs": [
    {
     "name": "stdout",
     "output_type": "stream",
     "text": [
      "[85 97 79 27 77 52 32 12 32 89]\n",
      "[12 27 32 32 52 77 79 85 89 97]\n"
     ]
    }
   ],
   "source": [
    "a = np.random.randint(100, size=10)\n",
    "print(a)\n",
    "print(np.sort(a))"
   ]
  },
  {
   "cell_type": "code",
   "execution_count": 72,
   "id": "eeb30674",
   "metadata": {},
   "outputs": [
    {
     "data": {
      "text/plain": [
       "array([85, 97, 79, 27, 77, 52, 32, 12, 32, 89])"
      ]
     },
     "execution_count": 72,
     "metadata": {},
     "output_type": "execute_result"
    }
   ],
   "source": [
    "a.squeeze()"
   ]
  }
 ],
 "metadata": {
  "kernelspec": {
   "display_name": "Python 3.9.6 64-bit",
   "language": "python",
   "name": "python3"
  },
  "language_info": {
   "codemirror_mode": {
    "name": "ipython",
    "version": 3
   },
   "file_extension": ".py",
   "mimetype": "text/x-python",
   "name": "python",
   "nbconvert_exporter": "python",
   "pygments_lexer": "ipython3",
   "version": "3.9.6"
  },
  "vscode": {
   "interpreter": {
    "hash": "aee8b7b246df8f9039afb4144a1f6fd8d2ca17a180786b69acc140d282b71a49"
   }
  }
 },
 "nbformat": 4,
 "nbformat_minor": 5
}
